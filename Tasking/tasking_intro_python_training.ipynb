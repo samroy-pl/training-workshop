{
 "cells": [
  {
   "cell_type": "markdown",
   "metadata": {
    "colab_type": "text",
    "id": "AL1_PQoR7ZvN"
   },
   "source": [
    "# Request API data with Python\n",
    "\n",
    "\n",
    "## Index\n",
    "\n",
    "1. Create an order\n",
    "2. Monitor an order\n",
    "3. Download successful captures"
   ]
  },
  {
   "cell_type": "code",
   "execution_count": 1,
   "metadata": {},
   "outputs": [],
   "source": [
    "import os\n",
    "import sys\n",
    "import requests\n",
    "import pytz\n",
    "from time import sleep\n",
    "from datetime import datetime, timedelta\n",
    "from planet.api.auth import find_api_key"
   ]
  },
  {
   "cell_type": "code",
   "execution_count": 2,
   "metadata": {},
   "outputs": [],
   "source": [
    "API_KEY = find_api_key()\n",
    "PLANET_API_HOST = \"api.planet.com\""
   ]
  },
  {
   "cell_type": "markdown",
   "metadata": {
    "colab_type": "text",
    "id": "XlSI7Dbm7aie"
   },
   "source": [
    "### 1 | Create an order"
   ]
  },
  {
   "cell_type": "code",
   "execution_count": 3,
   "metadata": {},
   "outputs": [],
   "source": [
    "PARAMETERS = {\n",
    "    'name': 'Satellite Control Demo',\n",
    "    'geometry': {\n",
    "        \"type\": \"Point\",\n",
    "        \"coordinates\": [26.039818165394035, 50.524749755859375] #long, lat\n",
    "    }\n",
    "}\n",
    "\n",
    "tomorrow = datetime.now(pytz.utc) + timedelta(days=1)\n",
    "one_week_later = tomorrow + timedelta(days=7)\n",
    "\n",
    "OPTIONAL_PARAMETERS = {\n",
    "    'start_time': tomorrow.isoformat(),\n",
    "    'end_time': one_week_later.isoformat()\n",
    "}\n",
    "\n",
    "# Optionally use optional parameters\n",
    "PARAMETERS.update(OPTIONAL_PARAMETERS)"
   ]
  },
  {
   "cell_type": "code",
   "execution_count": 5,
   "metadata": {},
   "outputs": [],
   "source": [
    "import json\n",
    "def create_order(parameters):\n",
    "\n",
    "    if not API_KEY:\n",
    "        print('Please set your planet api key in your environment as PLANET_API_KEY')\n",
    "\n",
    "    headers = {\n",
    "        'Authorization': f'api-key {API_KEY}',\n",
    "        'Content-Type': 'application/json'\n",
    "    }\n",
    "\n",
    "    response = requests.post(f'https://{PLANET_API_HOST}/tasking/v2/orders/', json=parameters, headers=headers)\n",
    "\n",
    "    if response.status_code == 403:\n",
    "        print('Your API KEY is valid, but you are not authorized.')\n",
    "    elif response.status_code == 401:\n",
    "        print('Your API KEY is incorrect')\n",
    "    elif response.status_code == 201:\n",
    "        print('Your order was created successfully with ID: {}'.format(response.json()[\"id\"]))\n",
    "        return response.json()[\"id\"]\n",
    "    else:\n",
    "        print(f'Received status code {response.status_code} from the API. Please contact support.')"
   ]
  },
  {
   "cell_type": "code",
   "execution_count": 6,
   "metadata": {},
   "outputs": [
    {
     "name": "stdout",
     "output_type": "stream",
     "text": [
      "Your order was created successfully with ID: 873fedf2-d3fc-459f-a97d-2a0dc5de05a6\n"
     ]
    }
   ],
   "source": [
    "oid = create_order(PARAMETERS)"
   ]
  },
  {
   "cell_type": "markdown",
   "metadata": {},
   "source": [
    "### 2 | Monitor an order"
   ]
  },
  {
   "cell_type": "code",
   "execution_count": 7,
   "metadata": {},
   "outputs": [],
   "source": [
    "def monitor_order(order_id):\n",
    "\n",
    "    if not API_KEY:\n",
    "        print('Please set your planet api key in your environment as PLANET_API_KEY')\n",
    "\n",
    "    headers = {\n",
    "        'Authorization': f'api-key {API_KEY}',\n",
    "        'Content-Type': 'application/json'\n",
    "    }\n",
    "\n",
    "    response = requests.get(f'https://{PLANET_API_HOST}/tasking/v2/orders/{order_id}/', headers=headers)\n",
    "    \n",
    "    status = response.status_code\n",
    "\n",
    "    if response.status_code == 403:\n",
    "        print('Your API KEY is valid, but you are not authorized to view this order.')\n",
    "    elif response.status_code == 401:\n",
    "        print('Your API KEY is incorrect')\n",
    "    elif response.status_code == 404:\n",
    "        print(f'Your order ({ORDER_ID}) does not exist')\n",
    "    elif response.status_code != 200:\n",
    "        print(f'Received status code {response.status_code} from the API. Please contact support.')\n",
    "    else:\n",
    "        order = response.json()\n",
    "        print(f'Your order is {order[\"status\"]} with {order[\"capture_status_published_count\"]} published captures '\n",
    "                f'and {order[\"capture_assessment_success_count\"]} successful captures')\n",
    "        return status"
   ]
  },
  {
   "cell_type": "code",
   "execution_count": 8,
   "metadata": {},
   "outputs": [
    {
     "name": "stdout",
     "output_type": "stream",
     "text": [
      "Your order is PENDING with 0 published captures and 0 successful captures\n"
     ]
    },
    {
     "data": {
      "text/plain": [
       "200"
      ]
     },
     "execution_count": 8,
     "metadata": {},
     "output_type": "execute_result"
    }
   ],
   "source": [
    "# Use ID of your previous order\n",
    "monitor_order(oid)"
   ]
  },
  {
   "cell_type": "markdown",
   "metadata": {},
   "source": [
    "### 3 | Download successful captures"
   ]
  },
  {
   "cell_type": "code",
   "execution_count": 9,
   "metadata": {},
   "outputs": [],
   "source": [
    "def download_successful_captures(order_id):\n",
    "    if not API_KEY:\n",
    "        print('Please set your planet api key in your environment as PLANET_API_KEY')\n",
    "\n",
    "    headers = {\n",
    "        'Authorization': f'api-key {API_KEY}',\n",
    "        'Content-Type': 'application/json'\n",
    "    }\n",
    "    \n",
    "    status = monitor_order(order_id)\n",
    "    \n",
    "    if status == 200:\n",
    "        response = requests.get(f'https://{PLANET_API_HOST}/tasking/v2/captures/?order_id={order_id}&fulfilling=true',\n",
    "                                headers=headers)\n",
    "\n",
    "        if response.status_code == 403:\n",
    "            print('Your API KEY is valid, but you are not authorized to view this order.')\n",
    "        elif response.status_code == 401:\n",
    "            print('Your API KEY is incorrect')\n",
    "        elif response.status_code != 200:\n",
    "            print(f'Received status code {response.status_code} from the API. Please contact support.')\n",
    "        else:\n",
    "            captures = response.json()['results']\n",
    "            strip_ids = [capture['strip_id'] for capture in captures]\n",
    "            search_data = {\n",
    "                \"filter\": {\n",
    "                    \"config\": strip_ids,\n",
    "                    \"field_name\": \"strip_id\",\n",
    "                    \"type\": \"StringInFilter\"\n",
    "                },\n",
    "                \"item_types\": [\"SkySatCollect\"]\n",
    "            }\n",
    "            data_api_response = requests.post(f'https://{PLANET_API_HOST}/data/v1/quick-search', headers=headers,\n",
    "                                              json=search_data)\n",
    "\n",
    "            asset_urls = [feature['_links']['assets'] for feature in data_api_response.json()['features']]\n",
    "\n",
    "            # Activate the ortho_visual asset(s)\n",
    "            ortho_visual_urls = []\n",
    "            for asset_url in asset_urls:\n",
    "                assets = requests.get(asset_url, headers=headers).json()\n",
    "                activation_url = assets['ortho_visual']['_links']['activate']\n",
    "                requests.get(activation_url, headers=headers)\n",
    "                ortho_visual_urls.append(assets['ortho_visual']['_links']['_self'])\n",
    "\n",
    "            # Wait for activation and print\n",
    "            for ortho_visual_url in ortho_visual_urls:\n",
    "                ortho_visual = requests.get(ortho_visual_url, headers=headers).json()\n",
    "                while 'location' not in ortho_visual:\n",
    "                    sleep(10)\n",
    "                    print('Waiting 10 seconds for asset to unlock...')\n",
    "                    ortho_visual = requests.get(ortho_visual_url, headers=headers).json()\n",
    "                print(f'Open the following link in a browser or download it to a file:\\n{ortho_visual[\"location\"]}')"
   ]
  },
  {
   "cell_type": "code",
   "execution_count": 10,
   "metadata": {},
   "outputs": [
    {
     "name": "stdout",
     "output_type": "stream",
     "text": [
      "Your order is PENDING with 0 published captures and 0 successful captures\n"
     ]
    }
   ],
   "source": [
    "download_successful_captures(oid)"
   ]
  },
  {
   "cell_type": "code",
   "execution_count": null,
   "metadata": {},
   "outputs": [],
   "source": []
  }
 ],
 "metadata": {
  "colab": {
   "name": "api-python-training.ipynb",
   "provenance": [],
   "version": "0.3.2"
  },
  "kernelspec": {
   "display_name": "Python 3",
   "language": "python",
   "name": "python3"
  },
  "language_info": {
   "codemirror_mode": {
    "name": "ipython",
    "version": 3
   },
   "file_extension": ".py",
   "mimetype": "text/x-python",
   "name": "python",
   "nbconvert_exporter": "python",
   "pygments_lexer": "ipython3",
   "version": "3.7.6"
  }
 },
 "nbformat": 4,
 "nbformat_minor": 4
}
